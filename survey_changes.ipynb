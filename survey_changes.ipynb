{
 "cells": [
  {
   "cell_type": "markdown",
   "metadata": {},
   "source": [
    "This notebook is used for surveying the changes of forecasts due to the lack of context. We survey on 3 dimensions:\n",
    "- calm/awry conversations: which type of conversations need more context?\n",
    "- positive/negative changes: The lack of context makes utterances sound more calm?\n",
    "- before/after triggered: The changes may happen more after the triggering preds? We use trigger on normal settings.\n",
    "\n",
    "\n",
    "The min threshold for changes is 0.2."
   ]
  },
  {
   "cell_type": "code",
   "execution_count": 12,
   "metadata": {},
   "outputs": [],
   "source": [
    "import pandas as pd\n",
    "import os\n",
    "import matplotlib.pyplot as plt\n",
    "import numpy as np\n",
    "from convokit import Corpus, download\n",
    "from collections import Counter\n",
    "\n",
    "seeds = [11, 12, 13, 14, 15, 42, 81, 93, 188, 830]"
   ]
  },
  {
   "cell_type": "code",
   "execution_count": 2,
   "metadata": {},
   "outputs": [],
   "source": [
    "cmv_dir = \"/reef/lyt5_cga_cmv\"\n",
    "corpus = Corpus(cmv_dir)\n",
    "label_metadata = \"has_removed_comment\""
   ]
  },
  {
   "cell_type": "code",
   "execution_count": 3,
   "metadata": {},
   "outputs": [
    {
     "name": "stdout",
     "output_type": "stream",
     "text": [
      "Number of Speakers: 25466\n",
      "Number of Utterances: 123441\n",
      "Number of Conversations: 20576\n"
     ]
    }
   ],
   "source": [
    "corpus.print_summary_stats()"
   ]
  },
  {
   "cell_type": "code",
   "execution_count": 39,
   "metadata": {},
   "outputs": [
    {
     "name": "stdout",
     "output_type": "stream",
     "text": [
      "420.0\n"
     ]
    }
   ],
   "source": [
    "count = 0\n",
    "for convo in corpus.iter_conversations():\n",
    "    if convo.meta['split'] == 'test':\n",
    "        count += 1\n",
    "print(count/2)"
   ]
  },
  {
   "cell_type": "code",
   "execution_count": 3,
   "metadata": {},
   "outputs": [],
   "source": [
    "full_preds = {}\n",
    "for seed in seeds:\n",
    "    full_pred_path = os.path.join(\"/reef/sqt2/TraMa_Exp/Full-SinglePreds/train-cmv/roberta-large/\", \"seed-{}\".format(seed), \"test-cmv/full/test_predictions.csv\")\n",
    "    full_preds[seed] = pd.read_csv(full_pred_path, index_col=0)\n",
    "single_preds = {}\n",
    "for seed in seeds:\n",
    "    single_pred_path = os.path.join(\"/reef/sqt2/TraMa_Exp/Full-SinglePreds/train-cmv/roberta-large/\", \"seed-{}\".format(seed), \"test-cmv/single/test_predictions.csv\")\n",
    "    single_preds[seed] = pd.read_csv(single_pred_path, index_col=0)"
   ]
  },
  {
   "cell_type": "code",
   "execution_count": 9,
   "metadata": {},
   "outputs": [],
   "source": [
    "change_characteristics = [] #['calm', 'positive', 'before']\n",
    "for seed in seeds:\n",
    "    full_pred = full_preds[seed]\n",
    "    single_pred = single_preds[seed]\n",
    "    for convo in corpus.iter_conversations():\n",
    "        if convo.meta['split'] == 'test':\n",
    "            label = 'awry' if convo.meta[label_metadata] else 'calm'\n",
    "            triggered = 'before'\n",
    "            for utt in convo.iter_utterances():\n",
    "                id = utt.id\n",
    "                if full_pred['forecast'][id]:\n",
    "                    triggered = 'after'\n",
    "                diff = abs(single_pred['forecast_prob'][id] - full_pred['forecast_prob'][id])\n",
    "                if diff > 0.2:\n",
    "                    change = 'positive' if single_pred['forecast_prob'][id] >\\\n",
    "                        full_pred['forecast_prob'][id] else 'negative'\n",
    "                    change_characteristics.append((label, triggered, change))\n",
    "\n"
   ]
  },
  {
   "cell_type": "code",
   "execution_count": 10,
   "metadata": {},
   "outputs": [
    {
     "data": {
      "text/plain": [
       "51140"
      ]
     },
     "execution_count": 10,
     "metadata": {},
     "output_type": "execute_result"
    }
   ],
   "source": [
    "len(change_characteristics)"
   ]
  },
  {
   "cell_type": "code",
   "execution_count": 13,
   "metadata": {},
   "outputs": [
    {
     "data": {
      "text/plain": [
       "Counter({('awry', 'after', 'negative'): 0.3446812671098944,\n",
       "         ('calm', 'after', 'negative'): 0.2117129448572546,\n",
       "         ('calm', 'before', 'positive'): 0.15756746186937817,\n",
       "         ('awry', 'before', 'positive'): 0.12555729370355886,\n",
       "         ('awry', 'before', 'negative'): 0.0721744231521314,\n",
       "         ('calm', 'before', 'negative'): 0.06689479859210012,\n",
       "         ('calm', 'after', 'positive'): 0.011497849041845913,\n",
       "         ('awry', 'after', 'positive'): 0.009913961673836527})"
      ]
     },
     "execution_count": 13,
     "metadata": {},
     "output_type": "execute_result"
    }
   ],
   "source": [
    "frequency = Counter(change_characteristics)\n",
    "for char in frequency:\n",
    "    frequency[char] /= len(change_characteristics)\n",
    "frequency"
   ]
  },
  {
   "cell_type": "code",
   "execution_count": 22,
   "metadata": {},
   "outputs": [
    {
     "name": "stdout",
     "output_type": "stream",
     "text": [
      "346 0\n"
     ]
    }
   ],
   "source": [
    "change_characteristics = [] #['calm', 'positive', 'before']\n",
    "for seed in [11]:\n",
    "    full_pred = full_preds[seed]\n",
    "    single_pred = single_preds[seed]\n",
    "    convo_pred_change_true, convo_pred_change = 0, 0 \n",
    "    for convo in corpus.iter_conversations():\n",
    "        if convo.meta['split'] == 'test':\n",
    "            label = 'awry' if convo.meta[label_metadata] else 'calm'\n",
    "            triggered = 'before'\n",
    "            \n",
    "            convo_pred = 0\n",
    "            # Get convo_preds\n",
    "            for utt in convo.iter_utterances():\n",
    "                if full_pred['forecast'][utt.id]:\n",
    "                    convo_pred = 1\n",
    "\n",
    "            for utt in convo.iter_utterances():\n",
    "                id = utt.id\n",
    "                diff = single_pred['forecast_prob'][id] - full_pred['forecast_prob'][id]\n",
    "                if diff > 0.2:\n",
    "                    if single_pred['forecast'][id] > convo_pred:\n",
    "                        convo_pred_change += 1\n",
    "                        # if convo.meta[label_metadata]:\n",
    "                        #     convo_pred_change_true += 1\n",
    "                        break\n",
    "    print(convo_pred_change, convo_pred_change_true)"
   ]
  },
  {
   "cell_type": "markdown",
   "metadata": {},
   "source": [
    "# Recovery"
   ]
  },
  {
   "cell_type": "markdown",
   "metadata": {},
   "source": [
    "## CMV"
   ]
  },
  {
   "cell_type": "code",
   "execution_count": 30,
   "metadata": {},
   "outputs": [],
   "source": [
    "cmv_dir = \"/reef/lyt5_cga_cmv\"\n",
    "cmv_corpus = Corpus(cmv_dir)\n"
   ]
  },
  {
   "cell_type": "code",
   "execution_count": 68,
   "metadata": {},
   "outputs": [],
   "source": [
    "full_preds = {}\n",
    "seeds = [11, 12, 13, 14, 15, 42, 81, 93, 188, 830]\n",
    "for seed in seeds:\n",
    "    full_pred_path = os.path.join(\"/reef/sqt2/TraMa_Exp/Full-SinglePreds/train-cmv/roberta-large/\", \"seed-{}\".format(seed), \"test-cmv/full/test_predictions.csv\")\n",
    "    full_preds[seed] = pd.read_csv(full_pred_path, index_col=0)\n",
    "single_preds = {}\n",
    "for seed in seeds:\n",
    "    single_pred_path = os.path.join(\"/reef/sqt2/TraMa_Exp/Full-SinglePreds/train-cmv/roberta-large/\", \"seed-{}\".format(seed), \"test-cmv/single/test_predictions.csv\")\n",
    "    single_preds[seed] = pd.read_csv(single_pred_path, index_col=0)"
   ]
  },
  {
   "cell_type": "markdown",
   "metadata": {},
   "source": [
    "### Full"
   ]
  },
  {
   "cell_type": "code",
   "execution_count": 69,
   "metadata": {},
   "outputs": [
    {
     "name": "stdout",
     "output_type": "stream",
     "text": [
      "6251 2771 0.4432890737482003 3480\n"
     ]
    }
   ],
   "source": [
    "label_metadata = \"has_removed_comment\"\n",
    "count_trigger, count_recovery = 0, 0\n",
    "for seed in full_preds:\n",
    "    full_pred = full_preds[seed]\n",
    "    for convo in cmv_corpus.iter_conversations():\n",
    "        if convo.meta['split'] == 'test' and not convo.meta[label_metadata]:\n",
    "            utt_list = convo.get_chronological_utterance_list()\n",
    "            triggered = False\n",
    "            for utt in utt_list[:-1]:\n",
    "                id = utt.id\n",
    "                if full_pred['forecast'][id]:\n",
    "                    triggered = True\n",
    "            if triggered:\n",
    "                count_trigger += 1\n",
    "                if not full_pred['forecast'][utt_list[-1].id]:\n",
    "                    count_recovery += 1\n",
    "print(count_trigger, count_recovery, count_recovery/count_trigger, count_trigger- count_recovery)"
   ]
  },
  {
   "cell_type": "code",
   "execution_count": 70,
   "metadata": {},
   "outputs": [
    {
     "name": "stdout",
     "output_type": "stream",
     "text": [
      "12298 2189 0.1779964221824687 10109\n"
     ]
    }
   ],
   "source": [
    "count_trigger, count_recovery = 0, 0\n",
    "for seed in full_preds:\n",
    "    full_pred = full_preds[seed]\n",
    "    for convo in cmv_corpus.iter_conversations():\n",
    "        if convo.meta['split'] == 'test' and convo.meta[label_metadata]:\n",
    "            utt_list = convo.get_chronological_utterance_list()\n",
    "            triggered = False\n",
    "            for utt in utt_list[:-1]:\n",
    "                id = utt.id\n",
    "                if full_pred['forecast'][id]:\n",
    "                    triggered = True\n",
    "            if triggered:\n",
    "                count_trigger += 1\n",
    "                if not full_pred['forecast'][utt_list[-1].id]:\n",
    "                    count_recovery += 1\n",
    "print(count_trigger, count_recovery, count_recovery/count_trigger, count_trigger- count_recovery)"
   ]
  },
  {
   "cell_type": "code",
   "execution_count": 72,
   "metadata": {},
   "outputs": [
    {
     "name": "stdout",
     "output_type": "stream",
     "text": [
      "0.8220035778175313 0.743910515858415 0.7810097732452582\n"
     ]
    }
   ],
   "source": [
    "recall = 10109/12298\n",
    "precision = 10109/(10109+3480)\n",
    "print(recall, precision, 2*(recall*precision)/(recall + precision))"
   ]
  },
  {
   "cell_type": "markdown",
   "metadata": {},
   "source": [
    "### Single\n"
   ]
  },
  {
   "cell_type": "code",
   "execution_count": 73,
   "metadata": {},
   "outputs": [
    {
     "name": "stdout",
     "output_type": "stream",
     "text": [
      "6685 5061 0.7570680628272252 1624\n"
     ]
    }
   ],
   "source": [
    "count_trigger, count_recovery = 0, 0\n",
    "for seed in single_preds:\n",
    "    full_pred = single_preds[seed]\n",
    "    for convo in cmv_corpus.iter_conversations():\n",
    "        if convo.meta['split'] == 'test' and not convo.meta[label_metadata]:\n",
    "            utt_list = convo.get_chronological_utterance_list()\n",
    "            triggered = False\n",
    "            for utt in utt_list[:-1]:\n",
    "                id = utt.id\n",
    "                if full_pred['forecast'][id]:\n",
    "                    triggered = True\n",
    "            if triggered:\n",
    "                count_trigger += 1\n",
    "                if not full_pred['forecast'][utt_list[-1].id]:\n",
    "                    count_recovery += 1\n",
    "print(count_trigger, count_recovery, count_recovery/count_trigger, count_trigger- count_recovery)"
   ]
  },
  {
   "cell_type": "code",
   "execution_count": 74,
   "metadata": {},
   "outputs": [
    {
     "name": "stdout",
     "output_type": "stream",
     "text": [
      "12803 6942 0.5422166679684449 5861\n"
     ]
    }
   ],
   "source": [
    "count_trigger, count_recovery = 0, 0\n",
    "for seed in single_preds:\n",
    "    full_pred = single_preds[seed]\n",
    "    for convo in cmv_corpus.iter_conversations():\n",
    "        if convo.meta['split'] == 'test' and convo.meta[label_metadata]:\n",
    "            utt_list = convo.get_chronological_utterance_list()\n",
    "            triggered = False\n",
    "            for utt in utt_list[:-1]:\n",
    "                id = utt.id\n",
    "                if full_pred['forecast'][id]:\n",
    "                    triggered = True\n",
    "            if triggered:\n",
    "                count_trigger += 1\n",
    "                if not full_pred['forecast'][utt_list[-1].id]:\n",
    "                    count_recovery += 1\n",
    "print(count_trigger, count_recovery, count_recovery/count_trigger, count_trigger- count_recovery)"
   ]
  },
  {
   "cell_type": "code",
   "execution_count": 75,
   "metadata": {},
   "outputs": [
    {
     "name": "stdout",
     "output_type": "stream",
     "text": [
      "0.4577833320315551 0.7830327321309285 0.5777799684542587\n"
     ]
    }
   ],
   "source": [
    "recall = 5861/12803\n",
    "precision = 5861/(5861+1624)\n",
    "print(recall, precision, 2*(recall*precision)/(recall + precision))\n"
   ]
  },
  {
   "cell_type": "markdown",
   "metadata": {},
   "source": [
    "## Wiki"
   ]
  },
  {
   "cell_type": "code",
   "execution_count": 13,
   "metadata": {},
   "outputs": [
    {
     "name": "stdout",
     "output_type": "stream",
     "text": [
      "Dataset already exists at /home/sqt2/.convokit/downloads/conversations-gone-awry-corpus\n"
     ]
    }
   ],
   "source": [
    "corpus = Corpus(filename=download(\"conversations-gone-awry-corpus\"))\n"
   ]
  },
  {
   "cell_type": "code",
   "execution_count": 50,
   "metadata": {},
   "outputs": [],
   "source": [
    "seeds = [11, 12, 13, 14, 15, 42, 81, 93, 830]\n",
    "full_preds = {}\n",
    "for seed in seeds:\n",
    "    full_pred_path = os.path.join(\"/reef/sqt2/TraMa_Exp/Full-SinglePreds/train-wikiconv/roberta-large/\", \"seed-{}\".format(seed), \"test-wikiconv/full/test_predictions.csv\")\n",
    "    full_preds[seed] = pd.read_csv(full_pred_path, index_col=0)\n",
    "single_preds = {}\n",
    "for seed in seeds:\n",
    "    single_pred_path = os.path.join(\"/reef/sqt2/TraMa_Exp/Full-SinglePreds/train-wikiconv/roberta-large/\", \"seed-{}\".format(seed), \"test-wikiconv/single/test_predictions.csv\")\n",
    "    single_preds[seed] = pd.read_csv(single_pred_path, index_col=0)"
   ]
  },
  {
   "cell_type": "markdown",
   "metadata": {},
   "source": [
    "### Full"
   ]
  },
  {
   "cell_type": "code",
   "execution_count": 58,
   "metadata": {},
   "outputs": [
    {
     "name": "stdout",
     "output_type": "stream",
     "text": [
      "1043 301 0.28859060402684567 742\n"
     ]
    }
   ],
   "source": [
    "label_metadata = \"conversation_has_personal_attack\"\n",
    "count_trigger, count_recovery = 0, 0\n",
    "for seed in full_preds:\n",
    "    full_pred = full_preds[seed]\n",
    "    for convo in corpus.iter_conversations():\n",
    "        if convo.meta['split'] == 'test' and not convo.meta[label_metadata]:\n",
    "            utt_list = convo.get_chronological_utterance_list()\n",
    "            triggered = False\n",
    "            for utt in utt_list[:-2]:\n",
    "                id = utt.id\n",
    "                if full_pred['forecast'][id]:\n",
    "                    triggered = True\n",
    "            if triggered:\n",
    "                count_trigger += 1\n",
    "                if not full_pred['forecast'][utt_list[-2].id]:\n",
    "                    count_recovery += 1\n",
    "print(count_trigger, count_recovery, count_recovery/count_trigger, count_trigger- count_recovery)"
   ]
  },
  {
   "cell_type": "code",
   "execution_count": 60,
   "metadata": {},
   "outputs": [
    {
     "name": "stdout",
     "output_type": "stream",
     "text": [
      "2144 299 0.1394589552238806 1845\n"
     ]
    }
   ],
   "source": [
    "count_trigger, count_recovery = 0, 0\n",
    "for seed in full_preds:\n",
    "    full_pred = full_preds[seed]\n",
    "    for convo in corpus.iter_conversations():\n",
    "        if convo.meta['split'] == 'test' and convo.meta[label_metadata]:\n",
    "            utt_list = convo.get_chronological_utterance_list()\n",
    "            triggered = False\n",
    "            for utt in utt_list[:-2]:\n",
    "                id = utt.id\n",
    "                if full_pred['forecast'][id]:\n",
    "                    triggered = True\n",
    "            if triggered:\n",
    "                count_trigger += 1\n",
    "                if not full_pred['forecast'][utt_list[-2].id]:\n",
    "                    count_recovery += 1\n",
    "print(count_trigger, count_recovery, count_recovery/count_trigger, count_trigger- count_recovery)"
   ]
  },
  {
   "cell_type": "code",
   "execution_count": 57,
   "metadata": {},
   "outputs": [
    {
     "data": {
      "text/plain": [
       "1845"
      ]
     },
     "execution_count": 57,
     "metadata": {},
     "output_type": "execute_result"
    }
   ],
   "source": [
    "2144 - 299"
   ]
  },
  {
   "cell_type": "code",
   "execution_count": 59,
   "metadata": {},
   "outputs": [
    {
     "name": "stdout",
     "output_type": "stream",
     "text": [
      "0.8605410447761194 0.7131812910707384 0.7799619530754598\n"
     ]
    }
   ],
   "source": [
    "recall = 1845/2144\n",
    "precision = 1845/(1845+742)\n",
    "print(recall, precision, 2*(recall*precision)/(recall + precision))\n",
    "# print((0.28859060402684567 + 1 - 0.1394589552238806)/2) "
   ]
  },
  {
   "cell_type": "markdown",
   "metadata": {},
   "source": [
    "### Single"
   ]
  },
  {
   "cell_type": "code",
   "execution_count": 62,
   "metadata": {},
   "outputs": [
    {
     "name": "stdout",
     "output_type": "stream",
     "text": [
      "862 719 0.834106728538283 143\n"
     ]
    }
   ],
   "source": [
    "count_trigger, count_recovery = 0, 0\n",
    "for seed in single_preds:\n",
    "    full_pred = single_preds[seed]\n",
    "    for convo in corpus.iter_conversations():\n",
    "        if convo.meta['split'] == 'test' and not convo.meta[label_metadata]:\n",
    "            utt_list = convo.get_chronological_utterance_list()\n",
    "            triggered = False\n",
    "            for utt in utt_list[:-2]:\n",
    "                id = utt.id\n",
    "                if full_pred['forecast'][id]:\n",
    "                    triggered = True\n",
    "            if triggered:\n",
    "                count_trigger += 1\n",
    "                if not full_pred['forecast'][utt_list[-2].id]:\n",
    "                    count_recovery += 1\n",
    "print(count_trigger, count_recovery, count_recovery/count_trigger, count_trigger- count_recovery)"
   ]
  },
  {
   "cell_type": "code",
   "execution_count": 61,
   "metadata": {},
   "outputs": [
    {
     "name": "stdout",
     "output_type": "stream",
     "text": [
      "1824 1076 0.5899122807017544 748\n"
     ]
    }
   ],
   "source": [
    "count_trigger, count_recovery = 0, 0\n",
    "for seed in single_preds:\n",
    "    full_pred = single_preds[seed]\n",
    "    for convo in corpus.iter_conversations():\n",
    "        if convo.meta['split'] == 'test' and convo.meta[label_metadata]:\n",
    "            utt_list = convo.get_chronological_utterance_list()\n",
    "            triggered = False\n",
    "            for utt in utt_list[:-2]:\n",
    "                id = utt.id\n",
    "                if full_pred['forecast'][id]:\n",
    "                    triggered = True\n",
    "            if triggered:\n",
    "                count_trigger += 1\n",
    "                if not full_pred['forecast'][utt_list[-2].id]:\n",
    "                    count_recovery += 1\n",
    "print(count_trigger, count_recovery, count_recovery/count_trigger, count_trigger- count_recovery)"
   ]
  },
  {
   "cell_type": "code",
   "execution_count": 63,
   "metadata": {},
   "outputs": [
    {
     "name": "stdout",
     "output_type": "stream",
     "text": [
      "0.4100877192982456 0.8395061728395061 0.5510128913443831\n"
     ]
    }
   ],
   "source": [
    "recall = 748/1824\n",
    "precision = 748/(748+143)\n",
    "print(recall, precision, 2*(recall*precision)/(recall + precision))"
   ]
  },
  {
   "cell_type": "code",
   "execution_count": null,
   "metadata": {},
   "outputs": [],
   "source": []
  }
 ],
 "metadata": {
  "kernelspec": {
   "display_name": "sqt_env",
   "language": "python",
   "name": "python3"
  },
  "language_info": {
   "codemirror_mode": {
    "name": "ipython",
    "version": 3
   },
   "file_extension": ".py",
   "mimetype": "text/x-python",
   "name": "python",
   "nbconvert_exporter": "python",
   "pygments_lexer": "ipython3",
   "version": "3.9.18"
  }
 },
 "nbformat": 4,
 "nbformat_minor": 2
}
