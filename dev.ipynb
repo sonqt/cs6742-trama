{
 "cells": [
  {
   "cell_type": "code",
   "execution_count": 1,
   "metadata": {},
   "outputs": [],
   "source": [
    "with open('chatgpt_strong_awry_utterances.txt', 'r') as file:\n",
    "    all_lines = file.readlines()\n",
    "prompts = {}\n",
    "for line in all_lines:\n",
    "    id, prompt = line.strip().split(\":=:=:=:=\")\n",
    "    prompts[id] = prompt"
   ]
  },
  {
   "cell_type": "code",
   "execution_count": 10,
   "metadata": {},
   "outputs": [],
   "source": [
    "for id in prompts:\n",
    "\n",
    "    if len(prompts[id]) < 15:\n",
    "        # print(prompts[id])\n",
    "        prompts[id]"
   ]
  },
  {
   "cell_type": "code",
   "execution_count": 18,
   "metadata": {},
   "outputs": [
    {
     "data": {
      "text/plain": [
       "<convokit.model.corpus.Corpus at 0x7f726d002a30>"
      ]
     },
     "execution_count": 18,
     "metadata": {},
     "output_type": "execute_result"
    }
   ],
   "source": [
    "import json\n",
    "from convokit import Forecaster, download, Corpus, Utterance, Speaker, Conversation\n",
    "\n",
    "corpus = Corpus(utterances=[])\n",
    "speaker = Speaker()\n",
    "with open('strong_awry_utterances.json', 'r') as file:\n",
    "    data = json.load(file)\n",
    "with open('chatgpt_strong_awry_utterances.txt', 'r') as file:\n",
    "    all_lines = file.readlines()\n",
    "prompts = {}\n",
    "for line in all_lines:\n",
    "    id, prompt = line.strip().split(\":=:=:=:=\")\n",
    "    prompts[id] = prompt\n",
    "all_new_utterances = []\n",
    "for conv_id in data:\n",
    "    utt_id = conv_id.split(\"_\")[1]\n",
    "    if prompts[conv_id]:\n",
    "        new_convo = Conversation(owner=corpus, id=conv_id, meta={'has_removed_comment': False})\n",
    "        prompt_utterance = Utterance(id=conv_id,\n",
    "                            speaker=speaker,\n",
    "                            conversation_id=conv_id,\n",
    "                            reply_to=None,\n",
    "                            text=prompts[conv_id],\n",
    "                            timestamp=0,\n",
    "                            )\n",
    "        reply_utterance = Utterance(id=utt_id,\n",
    "                            speaker=speaker,\n",
    "                            conversation_id=conv_id,\n",
    "                            reply_to=conv_id,\n",
    "                            text=data[conv_id][-1]['text'],\n",
    "                            timestamp=1,\n",
    "                            )\n",
    "        all_new_utterances.append(prompt_utterance)\n",
    "        all_new_utterances.append(reply_utterance)\n",
    "corpus.add_utterances(all_new_utterances)"
   ]
  },
  {
   "cell_type": "code",
   "execution_count": 23,
   "metadata": {},
   "outputs": [
    {
     "name": "stdout",
     "output_type": "stream",
     "text": [
      "Utterance(id: 'cus26gy_cus2wdb', conversation_id: cus26gy_cus2wdb, reply-to: None, speaker: Speaker(id: None, vectors: [], meta: ConvoKitMeta({})), timestamp: 0, text: 'How do you think the current economic system can be restructured to better support individuals pursuing careers focused on humanitarianism and activism?', vectors: [], meta: ConvoKitMeta({}))\n",
      "Utterance(id: 'cus2wdb', conversation_id: cus26gy_cus2wdb, reply-to: cus26gy_cus2wdb, speaker: Speaker(id: None, vectors: [], meta: ConvoKitMeta({})), timestamp: 1, text: \"&gt; Almost all transactions are such [Any transaction in which both sides benefit is an increase in welfare].\\n\\nThat's not true in this point in time. You are incredibly gullible if you think otherwise. Most transactions are thefts. \\n\", vectors: [], meta: ConvoKitMeta({}))\n",
      "1\n"
     ]
    }
   ],
   "source": [
    "count_convo = 0\n",
    "for convo in corpus.iter_conversations():\n",
    "    assert convo.meta['has_removed_comment'] == False\n",
    "    assert len(convo.get_chronological_utterance_list()) == 2\n",
    "    count_convo += 1\n",
    "    for utt in convo.iter_utterances():\n",
    "        print(utt)\n",
    "    break\n",
    "print(count_convo)    "
   ]
  },
  {
   "cell_type": "code",
   "execution_count": null,
   "metadata": {},
   "outputs": [],
   "source": []
  }
 ],
 "metadata": {
  "kernelspec": {
   "display_name": "sqt_env",
   "language": "python",
   "name": "python3"
  },
  "language_info": {
   "codemirror_mode": {
    "name": "ipython",
    "version": 3
   },
   "file_extension": ".py",
   "mimetype": "text/x-python",
   "name": "python",
   "nbconvert_exporter": "python",
   "pygments_lexer": "ipython3",
   "version": "3.9.18"
  }
 },
 "nbformat": 4,
 "nbformat_minor": 2
}
